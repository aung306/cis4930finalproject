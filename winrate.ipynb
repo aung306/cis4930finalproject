{
 "cells": [
  {
   "cell_type": "code",
   "execution_count": 3,
   "metadata": {},
   "outputs": [
    {
     "name": "stdout",
     "output_type": "stream",
     "text": [
      "Red Team: ['Phoenix', 'Clove', 'Reyna', 'Skye', 'Cypher']\n",
      "Blue Team: ['Clove', 'Sova', 'Reyna', 'Neon', 'Cypher']\n"
     ]
    }
   ],
   "source": [
    "from sklearn.model_selection import train_test_split\n",
    "from sklearn.linear_model import LinearRegression\n",
    "import numpy as np\n",
    "import json\n",
    "\n",
    "# Read the JavaScript data from the file\n",
    "with open('main.js', 'r') as file:\n",
    "    js_code = file.read()\n",
    "\n",
    "\n",
    "# Extract the JavaScript array parts\n",
    "start_index1 = js_code.find('[')\n",
    "end_index1 = js_code.find(']', start_index1)\n",
    "js_array_str1 = js_code[start_index1:end_index1 + 1]\n",
    "\n",
    "start_index2 = js_code.find('[', end_index1)\n",
    "end_index2 = js_code.find(']', start_index2)\n",
    "js_array_str2 = js_code[start_index2:end_index2 + 1]\n",
    "\n",
    "# Convert the JavaScript array strings to Python lists\n",
    "numbers1 = json.loads(js_array_str1)\n",
    "numbers2 = json.loads(js_array_str2)\n",
    "\n",
    "print(\"Red Team:\", numbers1)  # Output: [1, 2, 3, 4, 5]\n",
    "print(\"Blue Team:\", numbers2)  # Output: [6, 7, 8, 9, 10]\n"
   ]
  },
  {
   "cell_type": "code",
   "execution_count": 18,
   "metadata": {},
   "outputs": [
    {
     "name": "stdout",
     "output_type": "stream",
     "text": [
      "Best agent to play for each map:\n",
      "Bind: Clove\n",
      "Ascent: Iso\n",
      "Lotus: Killjoy\n",
      "Split: Sova\n"
     ]
    }
   ],
   "source": [
    "import requests\n",
    "\n",
    "# Make a GET request to the API endpoint\n",
    "response = requests.get('https://api.henrikdev.xyz/valorant/v3/matches/na/angi/chi')\n",
    "data = \"\"\n",
    "\n",
    "# Check if the request was successful (status code 200)\n",
    "if response.status_code == 200:\n",
    "    # Convert the response to JSON format\n",
    "    data = response.json()\n",
    "    # Now 'data' contains the JSON response from the API\n",
    "    # print(data)\n",
    "else:\n",
    "    print('Failed to retrieve data from the API:', response.status_code)\n",
    "\n",
    "# Step 1: Data Preparation\n",
    "import pandas as pd\n",
    "\n",
    "parsed_data = data\n",
    "\n",
    "# Initialize a dictionary to store the best agent for each map\n",
    "best_agents_for_maps = {}\n",
    "\n",
    "# Loop through each match\n",
    "for match in parsed_data['data']:\n",
    "    # Extract map name\n",
    "    map_name = match['metadata']['map']\n",
    "    \n",
    "    # Extract players and their characters\n",
    "    players = match['players']['all_players']\n",
    "    \n",
    "    # Initialize a dictionary to store performance metrics for each character on the map\n",
    "    character_performance = {}\n",
    "    \n",
    "    # Analyze performance of each character on the map\n",
    "    for player in players:\n",
    "        character = player['character']\n",
    "        if character not in character_performance:\n",
    "            character_performance[character] = {'wins': 0, 'kills': 0, 'deaths': 0, 'assists': 0}\n",
    "        \n",
    "        # Update performance metrics\n",
    "        if match['teams']['red']['has_won'] and player['team'] == 'Red':\n",
    "            character_performance[character]['wins'] += 1\n",
    "        character_performance[character]['kills'] += player['stats']['kills']\n",
    "        character_performance[character]['deaths'] += player['stats']['deaths']\n",
    "        character_performance[character]['assists'] += player['stats']['assists']\n",
    "    \n",
    "    # Determine the best character to play on the map based on performance metrics\n",
    "    best_character = max(character_performance, key=lambda x: character_performance[x]['wins'])\n",
    "    \n",
    "    # Store the best agent for the map\n",
    "    best_agents_for_maps[map_name] = best_character\n",
    "\n",
    "# Print the best agent for each map\n",
    "print(\"Best agent to play for each map:\")\n",
    "for map_name, best_agent in best_agents_for_maps.items():\n",
    "    print(map_name + \":\", best_agent)"
   ]
  }
 ],
 "metadata": {
  "kernelspec": {
   "display_name": "Python 3",
   "language": "python",
   "name": "python3"
  },
  "language_info": {
   "codemirror_mode": {
    "name": "ipython",
    "version": 3
   },
   "file_extension": ".py",
   "mimetype": "text/x-python",
   "name": "python",
   "nbconvert_exporter": "python",
   "pygments_lexer": "ipython3",
   "version": "3.11.8"
  }
 },
 "nbformat": 4,
 "nbformat_minor": 2
}
