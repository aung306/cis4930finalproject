{
 "cells": [
  {
   "cell_type": "code",
   "execution_count": 8,
   "metadata": {},
   "outputs": [
    {
     "name": "stdout",
     "output_type": "stream",
     "text": [
      "Red Team: [200, 600, 500, 600, 600]\n",
      "Blue Team: [7000, 600, 600, 600, 400]\n"
     ]
    }
   ],
   "source": [
    "from sklearn.model_selection import train_test_split\n",
    "from sklearn.linear_model import LinearRegression\n",
    "import numpy as np\n",
    "import json\n",
    "\n",
    "# Read the JavaScript data from the file\n",
    "with open('main.js', 'r') as file:\n",
    "    js_code = file.read()\n",
    "\n",
    "\n",
    "# Extract the JavaScript array parts\n",
    "start_index1 = js_code.find('[')\n",
    "end_index1 = js_code.find(']', start_index1)\n",
    "js_array_str1 = js_code[start_index1:end_index1 + 1]\n",
    "\n",
    "start_index2 = js_code.find('[', end_index1)\n",
    "end_index2 = js_code.find(']', start_index2)\n",
    "js_array_str2 = js_code[start_index2:end_index2 + 1]\n",
    "\n",
    "# Convert the JavaScript array strings to Python lists\n",
    "numbers1 = json.loads(js_array_str1)\n",
    "numbers2 = json.loads(js_array_str2)\n",
    "\n",
    "print(\"Red Team:\", numbers1)  # Output: [1, 2, 3, 4, 5]\n",
    "print(\"Blue Team:\", numbers2)  # Output: [6, 7, 8, 9, 10]\n"
   ]
  },
  {
   "cell_type": "code",
   "execution_count": 10,
   "metadata": {},
   "outputs": [],
   "source": [
    "team1_features = np.array([numbers1])  # Example feature vector for Team 1\n",
    "team2_features = np.array([numbers2])  # Example feature vector for Team 2\n",
    "labels = np.array([1])  # Example label (1 for Team 1 win)\n",
    "\n",
    "# Split data into training and testing sets\n",
    "X_train = np.concatenate((team1_features, team2_features))\n",
    "y_train = np.repeat(labels, 2)  # Duplicate labels for both teams\n",
    "X_test = np.concatenate((team1_features, team2_features))\n",
    "\n",
    "# Train linear regression model\n",
    "model = LinearRegression()\n",
    "model.fit(X_train, y_train)\n",
    "\n",
    "# Predict probabilities for the test set\n",
    "probabilities = model.predict(X_test)"
   ]
  }
 ],
 "metadata": {
  "kernelspec": {
   "display_name": "Python 3",
   "language": "python",
   "name": "python3"
  },
  "language_info": {
   "codemirror_mode": {
    "name": "ipython",
    "version": 3
   },
   "file_extension": ".py",
   "mimetype": "text/x-python",
   "name": "python",
   "nbconvert_exporter": "python",
   "pygments_lexer": "ipython3",
   "version": "3.11.7"
  }
 },
 "nbformat": 4,
 "nbformat_minor": 2
}
